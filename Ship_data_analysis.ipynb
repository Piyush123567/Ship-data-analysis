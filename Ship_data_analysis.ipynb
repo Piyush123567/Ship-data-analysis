{
 "cells": [
  {
   "cell_type": "code",
   "execution_count": 325,
   "id": "c6edd013-94de-42b7-9995-0d5f21471be1",
   "metadata": {},
   "outputs": [],
   "source": [
    "import pandas as pd\n",
    "import numpy as np\n",
    "import matplotlib.pyplot as plt\n",
    "import seaborn as sns\n",
    "%matplotlib inline"
   ]
  },
  {
   "cell_type": "code",
   "execution_count": 327,
   "id": "dcbfa987-59fe-4c50-a983-d89fd7dc9f5a",
   "metadata": {},
   "outputs": [],
   "source": [
    "df_port=pd.read_csv(\"Port_locations.csv\")"
   ]
  },
  {
   "cell_type": "code",
   "execution_count": 329,
   "id": "fd8121f9-d9f1-4b4d-a36b-685dc11a1eb1",
   "metadata": {},
   "outputs": [
    {
     "data": {
      "text/plain": [
       "(5856, 3)"
      ]
     },
     "execution_count": 329,
     "metadata": {},
     "output_type": "execute_result"
    }
   ],
   "source": [
    "df_port.shape"
   ]
  },
  {
   "cell_type": "code",
   "execution_count": 331,
   "id": "c4a59cd6-ff70-42c1-abd6-7b99ed5bb49d",
   "metadata": {},
   "outputs": [],
   "source": [
    "df=pd.read_csv(\"Ship_Uncleaned.csv\")"
   ]
  },
  {
   "cell_type": "code",
   "execution_count": 333,
   "id": "7ed755dc-44d7-4bbb-8747-65b8eeea137b",
   "metadata": {},
   "outputs": [
    {
     "data": {
      "text/plain": [
       "(4000, 6)"
      ]
     },
     "execution_count": 333,
     "metadata": {},
     "output_type": "execute_result"
    }
   ],
   "source": [
    "df.shape"
   ]
  },
  {
   "cell_type": "code",
   "execution_count": 335,
   "id": "5ce70ad2-9a6d-417c-82cc-e1188ade8cec",
   "metadata": {},
   "outputs": [],
   "source": [
    "for df in [df_port, df]:\n",
    "    df.columns = df.columns.str.strip().str.lower()"
   ]
  },
  {
   "cell_type": "code",
   "execution_count": 337,
   "id": "6aa9892b-19e4-41fe-907a-4225065d3ec4",
   "metadata": {},
   "outputs": [],
   "source": [
    "cols = ['company_name', 'ship_name']\n",
    "df[cols] = df[cols].apply(lambda col: col.str.strip().str.lower())"
   ]
  },
  {
   "cell_type": "code",
   "execution_count": 339,
   "id": "e553d5fe-0a77-46af-ac5d-e44d86bdb1ed",
   "metadata": {},
   "outputs": [
    {
     "data": {
      "text/html": [
       "<div>\n",
       "<style scoped>\n",
       "    .dataframe tbody tr th:only-of-type {\n",
       "        vertical-align: middle;\n",
       "    }\n",
       "\n",
       "    .dataframe tbody tr th {\n",
       "        vertical-align: top;\n",
       "    }\n",
       "\n",
       "    .dataframe thead th {\n",
       "        text-align: right;\n",
       "    }\n",
       "</style>\n",
       "<table border=\"1\" class=\"dataframe\">\n",
       "  <thead>\n",
       "    <tr style=\"text-align: right;\">\n",
       "      <th></th>\n",
       "      <th>company_name</th>\n",
       "      <th>ship_name</th>\n",
       "      <th>built_year</th>\n",
       "      <th>gt</th>\n",
       "      <th>dwt</th>\n",
       "      <th>size</th>\n",
       "    </tr>\n",
       "  </thead>\n",
       "  <tbody>\n",
       "    <tr>\n",
       "      <th>0</th>\n",
       "      <td>prelude</td>\n",
       "      <td>offshore support vessel</td>\n",
       "      <td>2017</td>\n",
       "      <td>499167</td>\n",
       "      <td>394330</td>\n",
       "      <td>489 / 74</td>\n",
       "    </tr>\n",
       "    <tr>\n",
       "      <th>1</th>\n",
       "      <td>prelude</td>\n",
       "      <td>offshore support vessel</td>\n",
       "      <td>2017</td>\n",
       "      <td>499167</td>\n",
       "      <td>394330</td>\n",
       "      <td>489 / 74</td>\n",
       "    </tr>\n",
       "    <tr>\n",
       "      <th>2</th>\n",
       "      <td>prelude</td>\n",
       "      <td>offshore support vessel</td>\n",
       "      <td>2017</td>\n",
       "      <td>499167</td>\n",
       "      <td>394330</td>\n",
       "      <td>489 / 74</td>\n",
       "    </tr>\n",
       "    <tr>\n",
       "      <th>3</th>\n",
       "      <td>prelude</td>\n",
       "      <td>offshore support vessel</td>\n",
       "      <td>2017</td>\n",
       "      <td>499167</td>\n",
       "      <td>394330</td>\n",
       "      <td>489 / 74</td>\n",
       "    </tr>\n",
       "    <tr>\n",
       "      <th>4</th>\n",
       "      <td>prelude</td>\n",
       "      <td>offshore support vessel</td>\n",
       "      <td>2017</td>\n",
       "      <td>499167</td>\n",
       "      <td>394330</td>\n",
       "      <td>489 / 74</td>\n",
       "    </tr>\n",
       "  </tbody>\n",
       "</table>\n",
       "</div>"
      ],
      "text/plain": [
       "  company_name                ship_name  built_year      gt     dwt      size\n",
       "0      prelude  offshore support vessel        2017  499167  394330  489 / 74\n",
       "1      prelude  offshore support vessel        2017  499167  394330  489 / 74\n",
       "2      prelude  offshore support vessel        2017  499167  394330  489 / 74\n",
       "3      prelude  offshore support vessel        2017  499167  394330  489 / 74\n",
       "4      prelude  offshore support vessel        2017  499167  394330  489 / 74"
      ]
     },
     "execution_count": 339,
     "metadata": {},
     "output_type": "execute_result"
    }
   ],
   "source": [
    "df.head()"
   ]
  },
  {
   "cell_type": "code",
   "execution_count": 341,
   "id": "5ec731af-7c2d-42b3-bb11-cfc67a4a6da8",
   "metadata": {},
   "outputs": [],
   "source": [
    "df[['length', 'width']] = (\n",
    "    df['size']\n",
    "    .str.split('/', expand=True) \n",
    "    .apply(lambda x: x.str.strip()) \n",
    "    .astype(int)                  \n",
    ")"
   ]
  },
  {
   "cell_type": "code",
   "execution_count": 343,
   "id": "52c559e5-5ce5-4cff-82c3-d1407ba909bc",
   "metadata": {},
   "outputs": [],
   "source": [
    "import datetime\n",
    "df['age'] = datetime.datetime.now().year - df['built_year']\n"
   ]
  },
  {
   "cell_type": "code",
   "execution_count": 345,
   "id": "f50d42e1-ac80-4830-a53f-a3800ea55082",
   "metadata": {},
   "outputs": [
    {
     "data": {
      "text/html": [
       "<div>\n",
       "<style scoped>\n",
       "    .dataframe tbody tr th:only-of-type {\n",
       "        vertical-align: middle;\n",
       "    }\n",
       "\n",
       "    .dataframe tbody tr th {\n",
       "        vertical-align: top;\n",
       "    }\n",
       "\n",
       "    .dataframe thead th {\n",
       "        text-align: right;\n",
       "    }\n",
       "</style>\n",
       "<table border=\"1\" class=\"dataframe\">\n",
       "  <thead>\n",
       "    <tr style=\"text-align: right;\">\n",
       "      <th></th>\n",
       "      <th>company_name</th>\n",
       "      <th>ship_name</th>\n",
       "      <th>built_year</th>\n",
       "      <th>gt</th>\n",
       "      <th>dwt</th>\n",
       "      <th>size</th>\n",
       "      <th>length</th>\n",
       "      <th>width</th>\n",
       "      <th>age</th>\n",
       "    </tr>\n",
       "  </thead>\n",
       "  <tbody>\n",
       "    <tr>\n",
       "      <th>0</th>\n",
       "      <td>prelude</td>\n",
       "      <td>offshore support vessel</td>\n",
       "      <td>2017</td>\n",
       "      <td>499167</td>\n",
       "      <td>394330</td>\n",
       "      <td>489 / 74</td>\n",
       "      <td>489</td>\n",
       "      <td>74</td>\n",
       "      <td>8</td>\n",
       "    </tr>\n",
       "    <tr>\n",
       "      <th>1</th>\n",
       "      <td>prelude</td>\n",
       "      <td>offshore support vessel</td>\n",
       "      <td>2017</td>\n",
       "      <td>499167</td>\n",
       "      <td>394330</td>\n",
       "      <td>489 / 74</td>\n",
       "      <td>489</td>\n",
       "      <td>74</td>\n",
       "      <td>8</td>\n",
       "    </tr>\n",
       "    <tr>\n",
       "      <th>2</th>\n",
       "      <td>prelude</td>\n",
       "      <td>offshore support vessel</td>\n",
       "      <td>2017</td>\n",
       "      <td>499167</td>\n",
       "      <td>394330</td>\n",
       "      <td>489 / 74</td>\n",
       "      <td>489</td>\n",
       "      <td>74</td>\n",
       "      <td>8</td>\n",
       "    </tr>\n",
       "    <tr>\n",
       "      <th>3</th>\n",
       "      <td>prelude</td>\n",
       "      <td>offshore support vessel</td>\n",
       "      <td>2017</td>\n",
       "      <td>499167</td>\n",
       "      <td>394330</td>\n",
       "      <td>489 / 74</td>\n",
       "      <td>489</td>\n",
       "      <td>74</td>\n",
       "      <td>8</td>\n",
       "    </tr>\n",
       "    <tr>\n",
       "      <th>4</th>\n",
       "      <td>prelude</td>\n",
       "      <td>offshore support vessel</td>\n",
       "      <td>2017</td>\n",
       "      <td>499167</td>\n",
       "      <td>394330</td>\n",
       "      <td>489 / 74</td>\n",
       "      <td>489</td>\n",
       "      <td>74</td>\n",
       "      <td>8</td>\n",
       "    </tr>\n",
       "  </tbody>\n",
       "</table>\n",
       "</div>"
      ],
      "text/plain": [
       "  company_name                ship_name  built_year      gt     dwt      size  \\\n",
       "0      prelude  offshore support vessel        2017  499167  394330  489 / 74   \n",
       "1      prelude  offshore support vessel        2017  499167  394330  489 / 74   \n",
       "2      prelude  offshore support vessel        2017  499167  394330  489 / 74   \n",
       "3      prelude  offshore support vessel        2017  499167  394330  489 / 74   \n",
       "4      prelude  offshore support vessel        2017  499167  394330  489 / 74   \n",
       "\n",
       "   length  width  age  \n",
       "0     489     74    8  \n",
       "1     489     74    8  \n",
       "2     489     74    8  \n",
       "3     489     74    8  \n",
       "4     489     74    8  "
      ]
     },
     "execution_count": 345,
     "metadata": {},
     "output_type": "execute_result"
    }
   ],
   "source": [
    "df.head()"
   ]
  },
  {
   "cell_type": "code",
   "execution_count": 347,
   "id": "0d40d74a-6ff4-4005-a081-f519b033c2f6",
   "metadata": {},
   "outputs": [],
   "source": [
    "df = df.drop(columns=['size'])"
   ]
  },
  {
   "cell_type": "code",
   "execution_count": 349,
   "id": "dec88095-3cbd-48f8-9ddf-a813ce4f3a9d",
   "metadata": {},
   "outputs": [
    {
     "data": {
      "text/html": [
       "<div>\n",
       "<style scoped>\n",
       "    .dataframe tbody tr th:only-of-type {\n",
       "        vertical-align: middle;\n",
       "    }\n",
       "\n",
       "    .dataframe tbody tr th {\n",
       "        vertical-align: top;\n",
       "    }\n",
       "\n",
       "    .dataframe thead th {\n",
       "        text-align: right;\n",
       "    }\n",
       "</style>\n",
       "<table border=\"1\" class=\"dataframe\">\n",
       "  <thead>\n",
       "    <tr style=\"text-align: right;\">\n",
       "      <th></th>\n",
       "      <th>company_name</th>\n",
       "      <th>ship_name</th>\n",
       "      <th>built_year</th>\n",
       "      <th>gt</th>\n",
       "      <th>dwt</th>\n",
       "      <th>length</th>\n",
       "      <th>width</th>\n",
       "      <th>age</th>\n",
       "    </tr>\n",
       "  </thead>\n",
       "  <tbody>\n",
       "    <tr>\n",
       "      <th>0</th>\n",
       "      <td>prelude</td>\n",
       "      <td>offshore support vessel</td>\n",
       "      <td>2017</td>\n",
       "      <td>499167</td>\n",
       "      <td>394330</td>\n",
       "      <td>489</td>\n",
       "      <td>74</td>\n",
       "      <td>8</td>\n",
       "    </tr>\n",
       "    <tr>\n",
       "      <th>1</th>\n",
       "      <td>prelude</td>\n",
       "      <td>offshore support vessel</td>\n",
       "      <td>2017</td>\n",
       "      <td>499167</td>\n",
       "      <td>394330</td>\n",
       "      <td>489</td>\n",
       "      <td>74</td>\n",
       "      <td>8</td>\n",
       "    </tr>\n",
       "    <tr>\n",
       "      <th>2</th>\n",
       "      <td>prelude</td>\n",
       "      <td>offshore support vessel</td>\n",
       "      <td>2017</td>\n",
       "      <td>499167</td>\n",
       "      <td>394330</td>\n",
       "      <td>489</td>\n",
       "      <td>74</td>\n",
       "      <td>8</td>\n",
       "    </tr>\n",
       "    <tr>\n",
       "      <th>3</th>\n",
       "      <td>prelude</td>\n",
       "      <td>offshore support vessel</td>\n",
       "      <td>2017</td>\n",
       "      <td>499167</td>\n",
       "      <td>394330</td>\n",
       "      <td>489</td>\n",
       "      <td>74</td>\n",
       "      <td>8</td>\n",
       "    </tr>\n",
       "    <tr>\n",
       "      <th>4</th>\n",
       "      <td>prelude</td>\n",
       "      <td>offshore support vessel</td>\n",
       "      <td>2017</td>\n",
       "      <td>499167</td>\n",
       "      <td>394330</td>\n",
       "      <td>489</td>\n",
       "      <td>74</td>\n",
       "      <td>8</td>\n",
       "    </tr>\n",
       "  </tbody>\n",
       "</table>\n",
       "</div>"
      ],
      "text/plain": [
       "  company_name                ship_name  built_year      gt     dwt  length  \\\n",
       "0      prelude  offshore support vessel        2017  499167  394330     489   \n",
       "1      prelude  offshore support vessel        2017  499167  394330     489   \n",
       "2      prelude  offshore support vessel        2017  499167  394330     489   \n",
       "3      prelude  offshore support vessel        2017  499167  394330     489   \n",
       "4      prelude  offshore support vessel        2017  499167  394330     489   \n",
       "\n",
       "   width  age  \n",
       "0     74    8  \n",
       "1     74    8  \n",
       "2     74    8  \n",
       "3     74    8  \n",
       "4     74    8  "
      ]
     },
     "execution_count": 349,
     "metadata": {},
     "output_type": "execute_result"
    }
   ],
   "source": [
    "df.head()"
   ]
  },
  {
   "cell_type": "code",
   "execution_count": 351,
   "id": "3fd12cfc-20d2-40f6-a2c4-5d8615336aa0",
   "metadata": {},
   "outputs": [],
   "source": [
    "df['risk_label'] = np.where(\n",
    "    (df['dwt'] > 200000) | (df['gt'] > 150000) | (df['built_year'] < 2010),\n",
    "    1,   \n",
    "    0    \n",
    ")"
   ]
  },
  {
   "cell_type": "code",
   "execution_count": 353,
   "id": "efc49021-100e-4d2e-a99e-e1fe16d26533",
   "metadata": {},
   "outputs": [
    {
     "data": {
      "text/plain": [
       "risk_label\n",
       "1    2300\n",
       "0    1700\n",
       "Name: count, dtype: int64"
      ]
     },
     "execution_count": 353,
     "metadata": {},
     "output_type": "execute_result"
    }
   ],
   "source": [
    "df[\"risk_label\"].value_counts()"
   ]
  },
  {
   "cell_type": "code",
   "execution_count": 355,
   "id": "fd6e3443-4b2e-484d-8b6e-3fac83e104e0",
   "metadata": {},
   "outputs": [],
   "source": [
    "df = df.drop(['company_name', 'ship_name'], axis=1)"
   ]
  },
  {
   "cell_type": "code",
   "execution_count": 357,
   "id": "b65636e6-68ef-4fc3-91ff-9c27944056a3",
   "metadata": {},
   "outputs": [
    {
     "data": {
      "text/html": [
       "<div>\n",
       "<style scoped>\n",
       "    .dataframe tbody tr th:only-of-type {\n",
       "        vertical-align: middle;\n",
       "    }\n",
       "\n",
       "    .dataframe tbody tr th {\n",
       "        vertical-align: top;\n",
       "    }\n",
       "\n",
       "    .dataframe thead th {\n",
       "        text-align: right;\n",
       "    }\n",
       "</style>\n",
       "<table border=\"1\" class=\"dataframe\">\n",
       "  <thead>\n",
       "    <tr style=\"text-align: right;\">\n",
       "      <th></th>\n",
       "      <th>built_year</th>\n",
       "      <th>gt</th>\n",
       "      <th>dwt</th>\n",
       "      <th>length</th>\n",
       "      <th>width</th>\n",
       "      <th>age</th>\n",
       "      <th>risk_label</th>\n",
       "    </tr>\n",
       "  </thead>\n",
       "  <tbody>\n",
       "    <tr>\n",
       "      <th>0</th>\n",
       "      <td>2017</td>\n",
       "      <td>499167</td>\n",
       "      <td>394330</td>\n",
       "      <td>489</td>\n",
       "      <td>74</td>\n",
       "      <td>8</td>\n",
       "      <td>1</td>\n",
       "    </tr>\n",
       "    <tr>\n",
       "      <th>1</th>\n",
       "      <td>2017</td>\n",
       "      <td>499167</td>\n",
       "      <td>394330</td>\n",
       "      <td>489</td>\n",
       "      <td>74</td>\n",
       "      <td>8</td>\n",
       "      <td>1</td>\n",
       "    </tr>\n",
       "    <tr>\n",
       "      <th>2</th>\n",
       "      <td>2017</td>\n",
       "      <td>499167</td>\n",
       "      <td>394330</td>\n",
       "      <td>489</td>\n",
       "      <td>74</td>\n",
       "      <td>8</td>\n",
       "      <td>1</td>\n",
       "    </tr>\n",
       "    <tr>\n",
       "      <th>3</th>\n",
       "      <td>2017</td>\n",
       "      <td>499167</td>\n",
       "      <td>394330</td>\n",
       "      <td>489</td>\n",
       "      <td>74</td>\n",
       "      <td>8</td>\n",
       "      <td>1</td>\n",
       "    </tr>\n",
       "    <tr>\n",
       "      <th>4</th>\n",
       "      <td>2017</td>\n",
       "      <td>499167</td>\n",
       "      <td>394330</td>\n",
       "      <td>489</td>\n",
       "      <td>74</td>\n",
       "      <td>8</td>\n",
       "      <td>1</td>\n",
       "    </tr>\n",
       "  </tbody>\n",
       "</table>\n",
       "</div>"
      ],
      "text/plain": [
       "   built_year      gt     dwt  length  width  age  risk_label\n",
       "0        2017  499167  394330     489     74    8           1\n",
       "1        2017  499167  394330     489     74    8           1\n",
       "2        2017  499167  394330     489     74    8           1\n",
       "3        2017  499167  394330     489     74    8           1\n",
       "4        2017  499167  394330     489     74    8           1"
      ]
     },
     "execution_count": 357,
     "metadata": {},
     "output_type": "execute_result"
    }
   ],
   "source": [
    "df.head()"
   ]
  },
  {
   "cell_type": "code",
   "execution_count": 359,
   "id": "bc2a71dc-48a9-495e-9eb6-6662cd75be38",
   "metadata": {},
   "outputs": [
    {
     "data": {
      "text/plain": [
       "(4000, 7)"
      ]
     },
     "execution_count": 359,
     "metadata": {},
     "output_type": "execute_result"
    }
   ],
   "source": [
    "df.shape"
   ]
  },
  {
   "cell_type": "code",
   "execution_count": 361,
   "id": "a8e0cb99-cc47-4433-acd3-701c6e612a00",
   "metadata": {},
   "outputs": [
    {
     "name": "stdout",
     "output_type": "stream",
     "text": [
      "<class 'pandas.core.frame.DataFrame'>\n",
      "RangeIndex: 4000 entries, 0 to 3999\n",
      "Data columns (total 7 columns):\n",
      " #   Column      Non-Null Count  Dtype\n",
      "---  ------      --------------  -----\n",
      " 0   built_year  4000 non-null   int64\n",
      " 1   gt          4000 non-null   int64\n",
      " 2   dwt         4000 non-null   int64\n",
      " 3   length      4000 non-null   int32\n",
      " 4   width       4000 non-null   int32\n",
      " 5   age         4000 non-null   int64\n",
      " 6   risk_label  4000 non-null   int32\n",
      "dtypes: int32(3), int64(4)\n",
      "memory usage: 172.0 KB\n"
     ]
    }
   ],
   "source": [
    "df.info()"
   ]
  },
  {
   "cell_type": "code",
   "execution_count": 363,
   "id": "cb86d4c9-45c3-4579-a94a-de542debccaa",
   "metadata": {},
   "outputs": [
    {
     "data": {
      "text/plain": [
       "built_year    0\n",
       "gt            0\n",
       "dwt           0\n",
       "length        0\n",
       "width         0\n",
       "age           0\n",
       "risk_label    0\n",
       "dtype: int64"
      ]
     },
     "execution_count": 363,
     "metadata": {},
     "output_type": "execute_result"
    }
   ],
   "source": [
    "df.isnull().sum()"
   ]
  },
  {
   "cell_type": "code",
   "execution_count": 365,
   "id": "f5edf512-3fa2-41cf-882d-9ddaecaed4c5",
   "metadata": {},
   "outputs": [
    {
     "data": {
      "text/html": [
       "<div>\n",
       "<style scoped>\n",
       "    .dataframe tbody tr th:only-of-type {\n",
       "        vertical-align: middle;\n",
       "    }\n",
       "\n",
       "    .dataframe tbody tr th {\n",
       "        vertical-align: top;\n",
       "    }\n",
       "\n",
       "    .dataframe thead th {\n",
       "        text-align: right;\n",
       "    }\n",
       "</style>\n",
       "<table border=\"1\" class=\"dataframe\">\n",
       "  <thead>\n",
       "    <tr style=\"text-align: right;\">\n",
       "      <th></th>\n",
       "      <th>built_year</th>\n",
       "      <th>gt</th>\n",
       "      <th>dwt</th>\n",
       "      <th>length</th>\n",
       "      <th>width</th>\n",
       "      <th>age</th>\n",
       "      <th>risk_label</th>\n",
       "    </tr>\n",
       "  </thead>\n",
       "  <tbody>\n",
       "    <tr>\n",
       "      <th>count</th>\n",
       "      <td>4000.000000</td>\n",
       "      <td>4000.000000</td>\n",
       "      <td>4000.000000</td>\n",
       "      <td>4000.000000</td>\n",
       "      <td>4000.000000</td>\n",
       "      <td>4000.000000</td>\n",
       "      <td>4000.000000</td>\n",
       "    </tr>\n",
       "    <tr>\n",
       "      <th>mean</th>\n",
       "      <td>2011.660000</td>\n",
       "      <td>128046.050000</td>\n",
       "      <td>179971.460000</td>\n",
       "      <td>319.180000</td>\n",
       "      <td>50.015000</td>\n",
       "      <td>13.340000</td>\n",
       "      <td>0.575000</td>\n",
       "    </tr>\n",
       "    <tr>\n",
       "      <th>std</th>\n",
       "      <td>7.165699</td>\n",
       "      <td>43045.106352</td>\n",
       "      <td>88786.478168</td>\n",
       "      <td>32.416513</td>\n",
       "      <td>6.723546</td>\n",
       "      <td>7.165699</td>\n",
       "      <td>0.494405</td>\n",
       "    </tr>\n",
       "    <tr>\n",
       "      <th>min</th>\n",
       "      <td>1976.000000</td>\n",
       "      <td>89991.000000</td>\n",
       "      <td>7900.000000</td>\n",
       "      <td>272.000000</td>\n",
       "      <td>36.000000</td>\n",
       "      <td>2.000000</td>\n",
       "      <td>0.000000</td>\n",
       "    </tr>\n",
       "    <tr>\n",
       "      <th>25%</th>\n",
       "      <td>2009.000000</td>\n",
       "      <td>94761.750000</td>\n",
       "      <td>106146.250000</td>\n",
       "      <td>292.000000</td>\n",
       "      <td>45.000000</td>\n",
       "      <td>9.000000</td>\n",
       "      <td>0.000000</td>\n",
       "    </tr>\n",
       "    <tr>\n",
       "      <th>50%</th>\n",
       "      <td>2012.000000</td>\n",
       "      <td>113883.000000</td>\n",
       "      <td>179217.500000</td>\n",
       "      <td>300.000000</td>\n",
       "      <td>48.000000</td>\n",
       "      <td>13.000000</td>\n",
       "      <td>1.000000</td>\n",
       "    </tr>\n",
       "    <tr>\n",
       "      <th>75%</th>\n",
       "      <td>2016.000000</td>\n",
       "      <td>155140.500000</td>\n",
       "      <td>231111.750000</td>\n",
       "      <td>334.250000</td>\n",
       "      <td>57.000000</td>\n",
       "      <td>16.000000</td>\n",
       "      <td>1.000000</td>\n",
       "    </tr>\n",
       "    <tr>\n",
       "      <th>max</th>\n",
       "      <td>2023.000000</td>\n",
       "      <td>499167.000000</td>\n",
       "      <td>400694.000000</td>\n",
       "      <td>489.000000</td>\n",
       "      <td>74.000000</td>\n",
       "      <td>49.000000</td>\n",
       "      <td>1.000000</td>\n",
       "    </tr>\n",
       "  </tbody>\n",
       "</table>\n",
       "</div>"
      ],
      "text/plain": [
       "        built_year             gt            dwt       length        width  \\\n",
       "count  4000.000000    4000.000000    4000.000000  4000.000000  4000.000000   \n",
       "mean   2011.660000  128046.050000  179971.460000   319.180000    50.015000   \n",
       "std       7.165699   43045.106352   88786.478168    32.416513     6.723546   \n",
       "min    1976.000000   89991.000000    7900.000000   272.000000    36.000000   \n",
       "25%    2009.000000   94761.750000  106146.250000   292.000000    45.000000   \n",
       "50%    2012.000000  113883.000000  179217.500000   300.000000    48.000000   \n",
       "75%    2016.000000  155140.500000  231111.750000   334.250000    57.000000   \n",
       "max    2023.000000  499167.000000  400694.000000   489.000000    74.000000   \n",
       "\n",
       "               age   risk_label  \n",
       "count  4000.000000  4000.000000  \n",
       "mean     13.340000     0.575000  \n",
       "std       7.165699     0.494405  \n",
       "min       2.000000     0.000000  \n",
       "25%       9.000000     0.000000  \n",
       "50%      13.000000     1.000000  \n",
       "75%      16.000000     1.000000  \n",
       "max      49.000000     1.000000  "
      ]
     },
     "execution_count": 365,
     "metadata": {},
     "output_type": "execute_result"
    }
   ],
   "source": [
    "df.describe()"
   ]
  },
  {
   "cell_type": "code",
   "execution_count": 367,
   "id": "85390fc0-e4e7-477d-b97f-fa79e0e9b684",
   "metadata": {},
   "outputs": [],
   "source": [
    "duplicates = df.duplicated().sum()"
   ]
  },
  {
   "cell_type": "code",
   "execution_count": 369,
   "id": "debcc017-7738-4562-9381-c2624b77b39a",
   "metadata": {},
   "outputs": [
    {
     "data": {
      "text/plain": [
       "3800"
      ]
     },
     "execution_count": 369,
     "metadata": {},
     "output_type": "execute_result"
    }
   ],
   "source": [
    "duplicates"
   ]
  },
  {
   "cell_type": "code",
   "execution_count": 371,
   "id": "96f9e727-dfd9-453b-be71-f2192cdc7cdc",
   "metadata": {},
   "outputs": [],
   "source": [
    "df = df.drop_duplicates()"
   ]
  },
  {
   "cell_type": "code",
   "execution_count": 373,
   "id": "abb6e7a8-dfda-45d9-af8b-f910e9217385",
   "metadata": {},
   "outputs": [
    {
     "data": {
      "text/plain": [
       "(200, 7)"
      ]
     },
     "execution_count": 373,
     "metadata": {},
     "output_type": "execute_result"
    }
   ],
   "source": [
    "df.shape"
   ]
  },
  {
   "cell_type": "code",
   "execution_count": 375,
   "id": "09023ed2-0e74-408c-ad7b-2271271f7d67",
   "metadata": {},
   "outputs": [
    {
     "data": {
      "text/plain": [
       "risk_label\n",
       "1    115\n",
       "0     85\n",
       "Name: count, dtype: int64"
      ]
     },
     "execution_count": 375,
     "metadata": {},
     "output_type": "execute_result"
    }
   ],
   "source": [
    "df[\"risk_label\"].value_counts()"
   ]
  },
  {
   "cell_type": "code",
   "execution_count": 377,
   "id": "daef8be2-2e61-4bab-9b66-efaf06bb7fa4",
   "metadata": {},
   "outputs": [
    {
     "data": {
      "image/png": "[encoded data removed]",
      "text/plain": [
       "<Figure size 640x480 with 1 Axes>"
      ]
     },
     "metadata": {},
     "output_type": "display_data"
    }
   ],
   "source": [
    "sns.countplot(data=df, x='risk_label')\n",
    "plt.title(\"High Risk (1) vs Low Risk (0) Ships\")\n",
    "plt.show()"
   ]
  },
  {
   "cell_type": "code",
   "execution_count": 379,
   "id": "397da5f4-f188-4676-b2e2-91fa17ee97c5",
   "metadata": {},
   "outputs": [
    {
     "data": {
      "image/png": "[encoded data removed]",
      "text/plain": [
       "<Figure size 640x480 with 1 Axes>"
      ]
     },
     "metadata": {},
     "output_type": "display_data"
    }
   ],
   "source": [
    "sns.histplot(data=df, x='age', hue='risk_label', bins=30, kde=True)\n",
    "plt.title(\"Ship Age vs Risk\")\n",
    "plt.show()"
   ]
  },
  {
   "cell_type": "code",
   "execution_count": 381,
   "id": "62ac63c6-6b5e-4cfa-ab13-396cd9622894",
   "metadata": {},
   "outputs": [
    {
     "data": {
      "image/png": "[encoded data removed]",
      "text/plain": [
       "<Figure size 640x480 with 1 Axes>"
      ]
     },
     "metadata": {},
     "output_type": "display_data"
    }
   ],
   "source": [
    "sns.boxplot(data=df, x='risk_label', y='gt')\n",
    "plt.title(\"Gross Tonnage vs Risk Label\")\n",
    "plt.show()"
   ]
  },
  {
   "cell_type": "code",
   "execution_count": 383,
   "id": "10cfe06a-4d27-4c63-bc35-f76cf2205d96",
   "metadata": {},
   "outputs": [
    {
     "data": {
      "image/png": "[encoded data removed]",
      "text/plain": [
       "<Figure size 640x480 with 1 Axes>"
      ]
     },
     "metadata": {},
     "output_type": "display_data"
    }
   ],
   "source": [
    "sns.boxplot(data=df, x='risk_label', y='dwt')\n",
    "plt.title(\"DWT vs Risk Label\")\n",
    "plt.show()"
   ]
  },
  {
   "cell_type": "code",
   "execution_count": 385,
   "id": "cf2a25b1-2985-4a13-a799-48967153a7ef",
   "metadata": {},
   "outputs": [
    {
     "data": {
      "image/png": "[encoded data removed]",
      "text/plain": [
       "<Figure size 640x480 with 1 Axes>"
      ]
     },
     "metadata": {},
     "output_type": "display_data"
    }
   ],
   "source": [
    "sns.scatterplot(data=df, x='length', y='width', hue='risk_label')\n",
    "plt.title(\"Length vs Width (by Risk)\")\n",
    "plt.show()"
   ]
  },
  {
   "cell_type": "code",
   "execution_count": 213,
   "id": "3753e5f4-3e5a-400d-969f-0f51e4cbd941",
   "metadata": {},
   "outputs": [
    {
     "data": {
      "image/png": "[encoded data removed]",
      "text/plain": [
       "<Figure size 640x480 with 2 Axes>"
      ]
     },
     "metadata": {},
     "output_type": "display_data"
    }
   ],
   "source": [
    "corr = df[['age','gt','dwt','length','width','risk_label']].corr()\n",
    "sns.heatmap(corr, annot=True, cmap=\"coolwarm\")\n",
    "plt.title(\"Correlation Heatmap\")\n",
    "plt.show()"
   ]
  },
  {
   "cell_type": "code",
   "execution_count": 399,
   "id": "1250e79e-ea44-4466-b778-f57957e1b4de",
   "metadata": {},
   "outputs": [],
   "source": [
    "X=df.drop('risk_label',axis=1)\n",
    "y=df['risk_label']"
   ]
  },
  {
   "cell_type": "code",
   "execution_count": 401,
   "id": "149eb82b-c437-4cd3-b6a9-5a4ede087e1e",
   "metadata": {},
   "outputs": [],
   "source": [
    "df = df.reset_index(drop=True)"
   ]
  },
  {
   "cell_type": "code",
   "execution_count": 403,
   "id": "316743ac-ab73-4d0f-b58f-afd3df76ce61",
   "metadata": {},
   "outputs": [
    {
     "data": {
      "text/html": [
       "<div>\n",
       "<style scoped>\n",
       "    .dataframe tbody tr th:only-of-type {\n",
       "        vertical-align: middle;\n",
       "    }\n",
       "\n",
       "    .dataframe tbody tr th {\n",
       "        vertical-align: top;\n",
       "    }\n",
       "\n",
       "    .dataframe thead th {\n",
       "        text-align: right;\n",
       "    }\n",
       "</style>\n",
       "<table border=\"1\" class=\"dataframe\">\n",
       "  <thead>\n",
       "    <tr style=\"text-align: right;\">\n",
       "      <th></th>\n",
       "      <th>built_year</th>\n",
       "      <th>gt</th>\n",
       "      <th>dwt</th>\n",
       "      <th>length</th>\n",
       "      <th>width</th>\n",
       "      <th>age</th>\n",
       "    </tr>\n",
       "  </thead>\n",
       "  <tbody>\n",
       "    <tr>\n",
       "      <th>0</th>\n",
       "      <td>2017</td>\n",
       "      <td>499167</td>\n",
       "      <td>394330</td>\n",
       "      <td>489</td>\n",
       "      <td>74</td>\n",
       "      <td>8</td>\n",
       "    </tr>\n",
       "    <tr>\n",
       "      <th>1</th>\n",
       "      <td>2023</td>\n",
       "      <td>236184</td>\n",
       "      <td>240000</td>\n",
       "      <td>399</td>\n",
       "      <td>60</td>\n",
       "      <td>2</td>\n",
       "    </tr>\n",
       "    <tr>\n",
       "      <th>2</th>\n",
       "      <td>2019</td>\n",
       "      <td>232618</td>\n",
       "      <td>228149</td>\n",
       "      <td>400</td>\n",
       "      <td>62</td>\n",
       "      <td>6</td>\n",
       "    </tr>\n",
       "    <tr>\n",
       "      <th>3</th>\n",
       "      <td>2019</td>\n",
       "      <td>228741</td>\n",
       "      <td>228111</td>\n",
       "      <td>400</td>\n",
       "      <td>61</td>\n",
       "      <td>6</td>\n",
       "    </tr>\n",
       "    <tr>\n",
       "      <th>4</th>\n",
       "      <td>2019</td>\n",
       "      <td>219688</td>\n",
       "      <td>198937</td>\n",
       "      <td>400</td>\n",
       "      <td>59</td>\n",
       "      <td>6</td>\n",
       "    </tr>\n",
       "  </tbody>\n",
       "</table>\n",
       "</div>"
      ],
      "text/plain": [
       "   built_year      gt     dwt  length  width  age\n",
       "0        2017  499167  394330     489     74    8\n",
       "1        2023  236184  240000     399     60    2\n",
       "2        2019  232618  228149     400     62    6\n",
       "3        2019  228741  228111     400     61    6\n",
       "4        2019  219688  198937     400     59    6"
      ]
     },
     "execution_count": 403,
     "metadata": {},
     "output_type": "execute_result"
    }
   ],
   "source": [
    "X.head()"
   ]
  },
  {
   "cell_type": "code",
   "execution_count": 405,
   "id": "9f450ef5-2e3d-43b1-8b47-aa400e91c9de",
   "metadata": {},
   "outputs": [
    {
     "data": {
      "text/plain": [
       "0    1\n",
       "1    1\n",
       "2    1\n",
       "3    1\n",
       "4    1\n",
       "Name: risk_label, dtype: int32"
      ]
     },
     "execution_count": 405,
     "metadata": {},
     "output_type": "execute_result"
    }
   ],
   "source": [
    "y.head()"
   ]
  },
  {
   "cell_type": "code",
   "execution_count": 407,
   "id": "469c1fcf-6fdb-4cdd-8005-ce2e33be1970",
   "metadata": {},
   "outputs": [],
   "source": [
    "from sklearn.model_selection import train_test_split\n",
    "X_train,X_test,y_train,y_test=train_test_split(X,y,test_size=0.25,random_state=42)"
   ]
  },
  {
   "cell_type": "code",
   "execution_count": 409,
   "id": "4c291871-a598-4c6a-ab76-fef496abe655",
   "metadata": {},
   "outputs": [
    {
     "data": {
      "text/plain": [
       "(150, 6)"
      ]
     },
     "execution_count": 409,
     "metadata": {},
     "output_type": "execute_result"
    }
   ],
   "source": [
    "X_train.shape"
   ]
  },
  {
   "cell_type": "code",
   "execution_count": 411,
   "id": "a797fc54-e16d-4902-8492-ee9462c22fb6",
   "metadata": {},
   "outputs": [
    {
     "data": {
      "text/plain": [
       "(50, 6)"
      ]
     },
     "execution_count": 411,
     "metadata": {},
     "output_type": "execute_result"
    }
   ],
   "source": [
    "X_test.shape"
   ]
  },
  {
   "cell_type": "code",
   "execution_count": 422,
   "id": "09d53310-0911-4e8d-bb48-8a5351972533",
   "metadata": {},
   "outputs": [],
   "source": [
    "from sklearn.preprocessing import StandardScaler\n",
    "scaler=StandardScaler()\n",
    "X_train_scaled=scaler.fit_transform(X_train)\n",
    "X_test_scaled=scaler.transform(X_test)"
   ]
  },
  {
   "cell_type": "code",
   "execution_count": 437,
   "id": "8ee66aa0-f1fb-46fc-af06-d0e063bf52a8",
   "metadata": {},
   "outputs": [],
   "source": [
    "from sklearn.ensemble import RandomForestClassifier\n",
    "from sklearn.ensemble import GradientBoostingClassifier\n",
    "from sklearn.tree import DecisionTreeClassifier\n",
    "from sklearn.ensemble import AdaBoostClassifier\n",
    "from sklearn.linear_model import LogisticRegression\n",
    "from sklearn.metrics import accuracy_score, classification_report,ConfusionMatrixDisplay, \\\n",
    "                            precision_score, recall_score, f1_score, roc_auc_score,roc_curve "
   ]
  },
  {
   "cell_type": "code",
   "execution_count": 462,
   "id": "d9366598-015f-4526-8da1-ebcf00d3f944",
   "metadata": {},
   "outputs": [
    {
     "name": "stdout",
     "output_type": "stream",
     "text": [
      "Logisitic Regression\n",
      "Model performance for Training set\n",
      "- Accuracy: 0.8733\n",
      "- F1 score: 0.8744\n",
      "- Precision: 0.9383\n",
      "- Recall: 0.8444\n",
      "- Roc Auc Score: 0.8806\n",
      "----------------------------------\n",
      "Model performance for Test set\n",
      "- Accuracy: 0.8000\n",
      "- F1 score: 0.8000\n",
      "- Precision: 0.8000\n",
      "- Recall: 0.8000\n",
      "- Roc Auc Score: 0.8000\n",
      "===================================\n",
      "\n",
      "\n"
     ]
    }
   ],
   "source": [
    "models={\n",
    "    \"Logisitic Regression\":LogisticRegression()\n",
    "}\n",
    "for i in range(len(list(models))):\n",
    "    model = list(models.values())[i]\n",
    "    model.fit(X_train_scaled, y_train)\n",
    "\n",
    "    y_train_pred = model.predict(X_train_scaled)\n",
    "    y_test_pred = model.predict(X_test_scaled)\n",
    "\n",
    "    model_train_accuracy = accuracy_score(y_train, y_train_pred) \n",
    "    model_train_f1 = f1_score(y_train, y_train_pred, average='weighted') \n",
    "    model_train_precision = precision_score(y_train, y_train_pred) \n",
    "    model_train_recall = recall_score(y_train, y_train_pred) \n",
    "    model_train_rocauc_score = roc_auc_score(y_train, y_train_pred)\n",
    "\n",
    "    model_test_accuracy = accuracy_score(y_test, y_test_pred) \n",
    "    model_test_f1 = f1_score(y_test, y_test_pred, average='weighted') \n",
    "    model_test_precision = precision_score(y_test, y_test_pred) \n",
    "    model_test_recall = recall_score(y_test, y_test_pred) \n",
    "    model_test_rocauc_score = roc_auc_score(y_test, y_test_pred)\n",
    "\n",
    "    print(list(models.keys())[i])\n",
    "    \n",
    "    print('Model performance for Training set')\n",
    "    print(\"- Accuracy: {:.4f}\".format(model_train_accuracy))\n",
    "    print('- F1 score: {:.4f}'.format(model_train_f1))\n",
    "    \n",
    "    print('- Precision: {:.4f}'.format(model_train_precision))\n",
    "    print('- Recall: {:.4f}'.format(model_train_recall))\n",
    "    print('- Roc Auc Score: {:.4f}'.format(model_train_rocauc_score))\n",
    "\n",
    "    \n",
    "    \n",
    "    print('----------------------------------')\n",
    "    \n",
    "    print('Model performance for Test set')\n",
    "    print('- Accuracy: {:.4f}'.format(model_test_accuracy))\n",
    "    print('- F1 score: {:.4f}'.format(model_test_f1))\n",
    "    print('- Precision: {:.4f}'.format(model_test_precision))\n",
    "    print('- Recall: {:.4f}'.format(model_test_recall))\n",
    "    print('- Roc Auc Score: {:.4f}'.format(model_test_rocauc_score))\n",
    "\n",
    "    \n",
    "    print('='*35)\n",
    "    print('\\n')"
   ]
  }
 ],
 "metadata": {
  "kernelspec": {
   "display_name": "Python [conda env:base] *",
   "language": "python",
   "name": "conda-base-py"
  },
  "language_info": {
   "codemirror_mode": {
    "name": "ipython",
    "version": 3
   },
   "file_extension": ".py",
   "mimetype": "text/x-python",
   "name": "python",
   "nbconvert_exporter": "python",
   "pygments_lexer": "ipython3",
   "version": "3.12.7"
  }
 },
 "nbformat": 4,
 "nbformat_minor": 5
}
